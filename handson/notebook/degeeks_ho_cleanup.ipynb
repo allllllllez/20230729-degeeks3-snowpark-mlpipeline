{
 "cells": [
  {
   "cell_type": "markdown",
   "id": "969df20e",
   "metadata": {},
   "source": [
    "# クリーンアップ"
   ]
  },
  {
   "cell_type": "markdown",
   "id": "bf44b66e",
   "metadata": {},
   "source": [
    "今回のハンズオンで作成したオブジェクトを削除します。"
   ]
  },
  {
   "cell_type": "code",
   "execution_count": null,
   "id": "6cc3eb27",
   "metadata": {},
   "outputs": [],
   "source": [
    "from snowflake.snowpark.session import Session\n",
    "from config import connection_parameters\n",
    "\n",
    "# config.py の内容：\n",
    "# connection_parameters = {\n",
    "#     \"account\": \"xx00000.ap-northeast-1.aws\",\n",
    "#     \"user\": \"<you_username>\",\n",
    "#     \"password\": \"<your_password>\",\n",
    "#     'role': 'SYSADMIN',\n",
    "#     'database': 'DEGEEKS_HO_DB',\n",
    "#     'schema': 'PUBLIC',\n",
    "#     'warehouse': 'DEGEEKS_HO_WH'\n",
    "# }\n",
    "\n",
    "session = Session.builder.configs(connection_parameters).create()\n",
    "print(session)\n"
   ]
  },
  {
   "cell_type": "code",
   "execution_count": null,
   "id": "df5bae5f",
   "metadata": {},
   "outputs": [],
   "source": [
    "session.sql(f\"drop warehouse {connection_parameters['warehouse']} \").collect()\n",
    "session.sql(f\"drop database if not exists {connection_parameters['database']}\").collect()"
   ]
  }
 ],
 "metadata": {
  "kernelspec": {
   "display_name": "Python 3 (ipykernel)",
   "language": "python",
   "name": "python3"
  },
  "language_info": {
   "codemirror_mode": {
    "name": "ipython",
    "version": 3
   },
   "file_extension": ".py",
   "mimetype": "text/x-python",
   "name": "python",
   "nbconvert_exporter": "python",
   "pygments_lexer": "ipython3",
   "version": "3.8.16"
  }
 },
 "nbformat": 4,
 "nbformat_minor": 5
}
