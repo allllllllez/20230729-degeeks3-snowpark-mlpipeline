{
 "cells": [
  {
   "cell_type": "markdown",
   "id": "fdcd129e",
   "metadata": {},
   "source": [
    "# Notebook から Snowpark を使ってみよう"
   ]
  },
  {
   "cell_type": "markdown",
   "id": "18298530",
   "metadata": {},
   "source": [
    "## Snowpark セッション作成\n",
    "\n",
    "ますはセッションを作成しましょう。\n",
    "\n",
    "`Session` は、Snowsight などの Web UI や Snowflake クライアントで接続するときに作成されるセッションの概念を模したオブジェクトです。\n",
    "\n",
    "※今回のハンズオンでは、接続情報を直接記載して Snowflake にアクセスしますが、実際に運用するプロダクトなどでは、基本的に直節記載は避けたほうが良いでしょう。AWS SecretManager などの機密情報管理サービスや、Github secret を使って、不用意に開示しないよう管理しましょう。"
   ]
  },
  {
   "cell_type": "code",
   "execution_count": null,
   "id": "aacd0ae0",
   "metadata": {},
   "outputs": [],
   "source": [
    "from snowflake.snowpark.session import Session\n",
    "from config import connection_parameters\n",
    "\n",
    "# config.py の内容：\n",
    "# connection_parameters = {\n",
    "#     'account': '<org_name>-<account_name>',  # お使いの Snowflake アカウントの識別子\n",
    "#     'user': '<your_username>',  # Snowflake アカウントにサインインするユーザー名\n",
    "#     'password': '<your_password>',  # ユーザーのパスワード\n",
    "#     'role': 'SYSADMIN',  # ハンズオンで使用するロール。変更は不要です\n",
    "#     'database': 'DEGEEKS_HO_DB',  # ハンズオンで使用するデータベース。存在しなければ新規作成します（「gegeeks_ho_notebook.ipynb」をご参照ください）\n",
    "#     'schema': 'PUBLIC',  # ハンズオンで使用するスキーマ\n",
    "#     'warehouse': 'DEGEEKS_HO_WH'  # ハンズオンで使用するウェアハウス。存在しなければ新規作成します（「gegeeks_ho_notebook.ipynb」をご参照ください）\n",
    "# }\n",
    "\n",
    "session = Session.builder.configs(connection_parameters).create()\n",
    "print(session)"
   ]
  },
  {
   "cell_type": "markdown",
   "id": "80c148f3",
   "metadata": {},
   "source": [
    "今回のハンズオンで使用するデータベースを作成します。\n"
   ]
  },
  {
   "cell_type": "code",
   "execution_count": null,
   "id": "f8a5d402",
   "metadata": {},
   "outputs": [],
   "source": [
    "session.sql(f\"create database if not exists {connection_parameters['database']}\").collect()\n",
    "session.sql(f\"use database {connection_parameters['database']}\").collect()\n",
    "print(session.sql('select current_warehouse(), current_database(), current_schema()').collect())"
   ]
  },
  {
   "cell_type": "markdown",
   "id": "ac1046c9",
   "metadata": {},
   "source": [
    "今回のハンズオンで使用するウェアハウスを作成します。"
   ]
  },
  {
   "cell_type": "code",
   "execution_count": null,
   "id": "76627820",
   "metadata": {},
   "outputs": [],
   "source": [
    "session.sql(f\"\"\"\n",
    "    create warehouse if not exists {connection_parameters['warehouse']} with\n",
    "        warehouse_size = xsmall\n",
    "        auto_suspend = 60\n",
    "        auto_resume = true\n",
    "\"\"\").collect()\n",
    "session.sql(f\"use warehouse {connection_parameters['warehouse']}\").collect()\n",
    "print(session.sql('select current_warehouse(), current_database(), current_schema()').collect())"
   ]
  },
  {
   "cell_type": "code",
   "execution_count": null,
   "id": "20d4186e",
   "metadata": {},
   "outputs": [],
   "source": [
    "session.sql(f\"use database {connection_parameters['database']}\").collect()\n",
    "session.sql(f\"use schema {connection_parameters['schema']}\").collect()\n",
    "session.sql(f\"use warehouse {connection_parameters['warehouse']}\").collect()\n",
    "print(session.sql('select current_warehouse(), current_database(), current_schema()').collect())"
   ]
  },
  {
   "cell_type": "markdown",
   "id": "df50c562",
   "metadata": {},
   "source": [
    "## TPC-H をクエリしてみよう"
   ]
  },
  {
   "cell_type": "markdown",
   "id": "ad7def67",
   "metadata": {},
   "source": [
    "早速、Snowpark Dataframe を作成してみましょう。"
   ]
  },
  {
   "cell_type": "code",
   "execution_count": null,
   "id": "db45175c",
   "metadata": {},
   "outputs": [],
   "source": [
    "import pandas as pd\n",
    "\n",
    "df = session.table(\"SNOWFLAKE_SAMPLE_DATA.TPCH_SF1.ORDERS\")\n",
    "df.limit(5).to_pandas()\n",
    "# pd.DataFrame(df.limit(5).collect()) # 上のコードでエラーになる場合"
   ]
  },
  {
   "cell_type": "markdown",
   "id": "4754eaa8",
   "metadata": {
    "collapsed": true,
    "jupyter": {
     "outputs_hidden": true
    }
   },
   "source": [
    "続けて、Dataframe を操作してみましょう。\n"
   ]
  },
  {
   "cell_type": "markdown",
   "id": "a459a483",
   "metadata": {},
   "source": [
    "フィルタ（Where句）はこのように記述します。"
   ]
  },
  {
   "cell_type": "code",
   "execution_count": null,
   "id": "d85f26e5",
   "metadata": {},
   "outputs": [],
   "source": [
    "import snowflake.snowpark.functions as F\n",
    "\n",
    "\n",
    "df.where(\n",
    "    F.col('O_TOTALPRICE') > 500000\n",
    ").select(\n",
    "    F.col('O_ORDERKEY'), F.col('O_TOTALPRICE'), F.col('O_ORDERDATE')\n",
    ").show(50)"
   ]
  },
  {
   "cell_type": "markdown",
   "id": "29bbe2ad",
   "metadata": {},
   "source": [
    "ソートはこのように記述します。"
   ]
  },
  {
   "cell_type": "code",
   "execution_count": null,
   "id": "4b767220",
   "metadata": {
    "scrolled": true
   },
   "outputs": [],
   "source": [
    "df.select([\n",
    "    F.col('O_ORDERKEY'), F.col('O_TOTALPRICE'), F.col('O_ORDERDATE')]\n",
    ").sort(\n",
    "    F.col('O_TOTALPRICE').desc()\n",
    ").show(10)"
   ]
  },
  {
   "cell_type": "markdown",
   "id": "866209b8",
   "metadata": {},
   "source": [
    "グルーピングと集計関数は、このように記述します。"
   ]
  },
  {
   "cell_type": "code",
   "execution_count": null,
   "id": "2a2b7165",
   "metadata": {},
   "outputs": [],
   "source": [
    "df.group_by(\n",
    "    F.col('O_ORDERPRIORITY')\n",
    ").agg(\n",
    "    F.count(F.col('O_ORDERKEY')).as_('ORDER_CNT'),\n",
    "    F.max(F.col('O_TOTALPRICE')).as_('TOTALPRICE_MAX'),\n",
    "    F.min(F.col('O_TOTALPRICE')).as_('TOTALPRICE_MIN'),\n",
    "    F.sum(F.col('O_TOTALPRICE')).as_('TOTALPRICE_SUM'),\n",
    "    F.avg(F.col('O_TOTALPRICE')).as_('TOTALPRICE_AVG')\n",
    ").show()"
   ]
  },
  {
   "cell_type": "markdown",
   "id": "0cb9277b",
   "metadata": {},
   "source": [
    "基本統計量を算出することもできます。"
   ]
  },
  {
   "cell_type": "code",
   "execution_count": null,
   "id": "d129e977",
   "metadata": {},
   "outputs": [],
   "source": [
    "# df.describe().show()  # ちょっと見づらいので pandas 化する\n",
    "df.describe().to_pandas()"
   ]
  },
  {
   "cell_type": "markdown",
   "id": "9f33c1b4",
   "metadata": {},
   "source": [
    "ここで、`to_pandas()` が登場したので、少々横道にそれますが、Pandas Dataframe と Snowpark Dataframe の違いを見ておきましょう。\n",
    "Python 上で使用しているメモリサイズを出力すると、、、"
   ]
  },
  {
   "cell_type": "code",
   "execution_count": null,
   "id": "088b829b",
   "metadata": {},
   "outputs": [],
   "source": [
    "import sys\n",
    "import numpy as np\n",
    "\n",
    "\n",
    "pdf = pd.DataFrame(df.collect())\n",
    "print(f'Size of Pandas DataFrame in Memory: {np.round(sys.getsizeof(pdf) / (1024.0**2), 2)} MB ({sys.getsizeof(pdf)} B)')\n",
    "print(f'Size of Snowpark DataFrame in Memory: {np.round(sys.getsizeof(df) / (1024.0**2), 2)} MB ({sys.getsizeof(df)} B)')"
   ]
  },
  {
   "cell_type": "markdown",
   "id": "04e6e74d",
   "metadata": {},
   "source": [
    "Pandas Dataframe はデータの実体をメモリ上に保持していますが、Snowpark Dataframe は保持していないようです。\n",
    "\n",
    "[Snowpark のドキュメント](https://docs.snowflake.com/ja/developer-guide/snowpark/python/working-with-dataframes)で説明されている通り、Snowpark Dataframe はデータを取得するために必要な処理をまとめた、いわばクエリの塊のようなものです。特定のアクション（`collect()` など）が実行されるまで、処理は行われません。アクションが実行されたときに、変換処理が実行され、結果を取得します。これが遅延評価の特徴です。"
   ]
  },
  {
   "cell_type": "markdown",
   "id": "e6e363a5",
   "metadata": {},
   "source": [
    "## UDFとストアドプロシージャ\n"
   ]
  },
  {
   "cell_type": "markdown",
   "id": "827e0cfc",
   "metadata": {},
   "source": [
    "次に、UDFとストアドプロシージャを作ってみます。  \n",
    "Notebook 上から、Python で記述した関数を UDF やストアドプロシージャとして Snowflake に登録することができます。  "
   ]
  },
  {
   "cell_type": "markdown",
   "id": "e755400b",
   "metadata": {},
   "source": [
    "### UDF "
   ]
  },
  {
   "cell_type": "markdown",
   "id": "9a1bfd0a",
   "metadata": {},
   "source": [
    "UDF（User Defined Function）とは、データベースシステムに組み込まれているシステム関数（`count()`、 `sqrt()` 等）に対し、ユーザー自身が定義する関数のことです。  \n",
    "ここでは、文字の全角・半角を正規化する関数を作ってみましょう。"
   ]
  },
  {
   "cell_type": "code",
   "execution_count": null,
   "id": "10b022ec",
   "metadata": {},
   "outputs": [],
   "source": [
    "from snowflake.snowpark.functions import udf\n",
    "import unicodedata\n",
    "\n",
    "\n",
    "@udf(\n",
    "    name='unicode_nfkc_udf',\n",
    "    is_permanent=True,\n",
    "    stage_location='@~/sample_udf_stage',\n",
    "    replace=True\n",
    ")\n",
    "def unicode_nfkc_udf(x: str) -> str:\n",
    "    return unicodedata.normalize('NFKC', x)\n"
   ]
  },
  {
   "cell_type": "code",
   "execution_count": null,
   "id": "58389bb9",
   "metadata": {},
   "outputs": [],
   "source": [
    "# show() では表形式になる\n",
    "session.sql(\n",
    "    \"\"\"\n",
    "    select\n",
    "        '全角半角ｶﾅ混じり　表記ゆれてるＹＯ!' as input,\n",
    "        unicode_nfkc_udf(input) as output\"\"\"\n",
    ").show()"
   ]
  },
  {
   "cell_type": "markdown",
   "id": "0b9b362e",
   "metadata": {},
   "source": [
    "### ストアドプロシージャ\n",
    "次はストアドプロシージャを作ってみましょう。ストアドプロシージャも UDF と同様、コードを書くことで SQL を拡張できるものです。 管理操作を実行させたい、などの場合はこちらを使います。\n",
    "\n",
    "TPC-H の ORDERS テーブルを集計するストアドプロシージャを作ってみましょう。\n"
   ]
  },
  {
   "cell_type": "code",
   "execution_count": null,
   "id": "3904f38d",
   "metadata": {},
   "outputs": [],
   "source": [
    "from snowflake.snowpark.functions import sproc\n",
    "\n",
    "\n",
    "@sproc(\n",
    "    name=\"count_sproc\",\n",
    "    packages=['snowflake-snowpark-python'],\n",
    "    is_permanent=True,\n",
    "    stage_location=\"@~/sample_sproc_stage\",\n",
    "    replace=True\n",
    ")\n",
    "def count_sproc(session: Session, column: str) -> int:\n",
    "    df = session.table('SNOWFLAKE_SAMPLE_DATA.TPCH_SF1.ORDERS')\n",
    "    return df.agg(F.count(F.col(column))).collect()[0][0]"
   ]
  },
  {
   "cell_type": "code",
   "execution_count": null,
   "id": "9f836617",
   "metadata": {},
   "outputs": [],
   "source": [
    "print(count_sproc(session, 'O_ORDERKEY'))"
   ]
  },
  {
   "cell_type": "markdown",
   "id": "7697526c",
   "metadata": {},
   "source": [
    "---\n"
   ]
  },
  {
   "cell_type": "markdown",
   "id": "d42567d1",
   "metadata": {},
   "source": [
    "## Appendix"
   ]
  },
  {
   "cell_type": "markdown",
   "id": "60af4bdc",
   "metadata": {},
   "source": [
    "### ハンズオン資料に載せていないクエリ集"
   ]
  },
  {
   "cell_type": "code",
   "execution_count": null,
   "id": "c0b83c77",
   "metadata": {},
   "outputs": [],
   "source": []
  }
 ],
 "metadata": {
  "kernelspec": {
   "display_name": "Python 3 (ipykernel)",
   "language": "python",
   "name": "python3"
  },
  "language_info": {
   "codemirror_mode": {
    "name": "ipython",
    "version": 3
   },
   "file_extension": ".py",
   "mimetype": "text/x-python",
   "name": "python",
   "nbconvert_exporter": "python",
   "pygments_lexer": "ipython3",
   "version": "3.8.16"
  }
 },
 "nbformat": 4,
 "nbformat_minor": 5
}
